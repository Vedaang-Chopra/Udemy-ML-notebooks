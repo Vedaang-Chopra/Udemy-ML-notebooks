{
 "cells": [
  {
   "cell_type": "code",
   "execution_count": 3,
   "metadata": {},
   "outputs": [],
   "source": [
    "#Part - 1 # Building the CNN\n",
    "## importing keras libraries\n",
    "from tensorflow.keras.models import Sequential\n",
    "from tensorflow.keras.layers import Convolution2D\n",
    "from tensorflow.keras.layers import MaxPooling2D\n",
    "from tensorflow.keras.layers import Flatten\n",
    "from tensorflow.keras.layers import Dense"
   ]
  },
  {
   "cell_type": "code",
   "execution_count": 4,
   "metadata": {},
   "outputs": [],
   "source": [
    "# Initialising the CNN\n",
    "classifier = Sequential()"
   ]
  },
  {
   "cell_type": "code",
   "execution_count": 5,
   "metadata": {},
   "outputs": [],
   "source": [
    "# Step-1 Convolution\n",
    "classifier.add(Convolution2D(32,3,3, input_shape = (64,64,3), activation = 'relu'))"
   ]
  },
  {
   "cell_type": "code",
   "execution_count": 6,
   "metadata": {},
   "outputs": [],
   "source": [
    "# Step-2 Pooling\n",
    "classifier.add(MaxPooling2D(pool_size = (2,2)))"
   ]
  },
  {
   "cell_type": "code",
   "execution_count": 7,
   "metadata": {},
   "outputs": [],
   "source": [
    "# Step-3 Flattening\n",
    "classifier.add(Flatten())"
   ]
  },
  {
   "cell_type": "code",
   "execution_count": 9,
   "metadata": {},
   "outputs": [],
   "source": [
    "# Step-4 Full Connection (ANN)\n",
    "classifier.add(Dense(units = 128, activation = 'relu'))\n",
    "# output layer\n",
    "classifier.add(Dense(units = 1, activation = 'sigmoid'))"
   ]
  },
  {
   "cell_type": "code",
   "execution_count": 10,
   "metadata": {},
   "outputs": [],
   "source": [
    "# Compiling the CNN\n",
    "classifier.compile(optimizer='adam', loss = 'binary_crossentropy', metrics = ['accuracy'])"
   ]
  },
  {
   "cell_type": "code",
   "execution_count": 27,
   "metadata": {
    "scrolled": true
   },
   "outputs": [
    {
     "name": "stdout",
     "output_type": "stream",
     "text": [
      "Found 8000 images belonging to 2 classes.\n",
      "Found 2000 images belonging to 2 classes.\n",
      "Epoch 1/25\n",
      "8000/8000 [==============================] - 1287s 161ms/step - loss: 0.4525 - acc: 0.7817 - val_loss: 0.6584 - val_acc: 0.7449\n",
      "Epoch 2/25\n",
      "8000/8000 [==============================] - 1200s 150ms/step - loss: 0.2437 - acc: 0.8978 - val_loss: 0.7509 - val_acc: 0.7757\n",
      "Epoch 3/25\n",
      "8000/8000 [==============================] - 1337s 167ms/step - loss: 0.1341 - acc: 0.9479 - val_loss: 0.9883 - val_acc: 0.7554\n",
      "Epoch 4/25\n",
      "8000/8000 [==============================] - 1285s 161ms/step - loss: 0.0886 - acc: 0.9670 - val_loss: 1.0735 - val_acc: 0.7675\n",
      "Epoch 5/25\n",
      "8000/8000 [==============================] - 1618s 202ms/step - loss: 0.0668 - acc: 0.9754 - val_loss: 1.1756 - val_acc: 0.7654\n",
      "Epoch 6/25\n",
      "8000/8000 [==============================] - 1343s 168ms/step - loss: 0.0533 - acc: 0.9807 - val_loss: 1.3555 - val_acc: 0.7475\n",
      "Epoch 7/25\n",
      "8000/8000 [==============================] - 1345s 168ms/step - loss: 0.0468 - acc: 0.9833 - val_loss: 1.4434 - val_acc: 0.7614\n",
      "Epoch 8/25\n",
      "8000/8000 [==============================] - 1307s 163ms/step - loss: 0.0398 - acc: 0.9861 - val_loss: 1.4218 - val_acc: 0.7661\n",
      "Epoch 9/25\n",
      "8000/8000 [==============================] - 1291s 161ms/step - loss: 0.0368 - acc: 0.9873 - val_loss: 1.4949 - val_acc: 0.7635\n",
      "Epoch 10/25\n",
      "8000/8000 [==============================] - 1295s 162ms/step - loss: 0.0334 - acc: 0.9886 - val_loss: 1.4928 - val_acc: 0.7738\n",
      "Epoch 11/25\n",
      "8000/8000 [==============================] - 1217s 152ms/step - loss: 0.0312 - acc: 0.9893 - val_loss: 1.5051 - val_acc: 0.7747\n",
      "Epoch 12/25\n",
      "8000/8000 [==============================] - 1172s 147ms/step - loss: 0.0275 - acc: 0.9907 - val_loss: 1.6781 - val_acc: 0.7676\n",
      "Epoch 13/25\n",
      "8000/8000 [==============================] - 1413s 177ms/step - loss: 0.0260 - acc: 0.9913 - val_loss: 2.0021 - val_acc: 0.7376\n",
      "Epoch 14/25\n",
      "8000/8000 [==============================] - 1350s 169ms/step - loss: 0.0252 - acc: 0.9914 - val_loss: 1.9095 - val_acc: 0.7501\n",
      "Epoch 15/25\n",
      "8000/8000 [==============================] - 1297s 162ms/step - loss: 0.0242 - acc: 0.9919 - val_loss: 1.7513 - val_acc: 0.7655\n",
      "Epoch 16/25\n",
      "8000/8000 [==============================] - 1311s 164ms/step - loss: 0.0220 - acc: 0.9927 - val_loss: 1.6923 - val_acc: 0.7697\n",
      "Epoch 17/25\n",
      "8000/8000 [==============================] - 1294s 162ms/step - loss: 0.0210 - acc: 0.9929 - val_loss: 1.8070 - val_acc: 0.7565\n",
      "Epoch 18/25\n",
      "8000/8000 [==============================] - 1189s 149ms/step - loss: 0.0195 - acc: 0.9934 - val_loss: 1.7114 - val_acc: 0.7667\n",
      "Epoch 19/25\n",
      "8000/8000 [==============================] - 1216s 152ms/step - loss: 0.0194 - acc: 0.9936 - val_loss: 1.8378 - val_acc: 0.7597\n",
      "Epoch 20/25\n",
      "8000/8000 [==============================] - 1228s 153ms/step - loss: 0.0182 - acc: 0.9939 - val_loss: 1.8791 - val_acc: 0.7532\n",
      "Epoch 21/25\n",
      "8000/8000 [==============================] - 1212s 152ms/step - loss: 0.0169 - acc: 0.9944 - val_loss: 1.8710 - val_acc: 0.7722\n",
      "Epoch 22/25\n",
      "8000/8000 [==============================] - 1168s 146ms/step - loss: 0.0163 - acc: 0.9946 - val_loss: 1.9867 - val_acc: 0.7590\n",
      "Epoch 23/25\n",
      "8000/8000 [==============================] - 1288s 161ms/step - loss: 0.0162 - acc: 0.9949 - val_loss: 1.9780 - val_acc: 0.7565\n",
      "Epoch 24/25\n",
      "8000/8000 [==============================] - 1312s 164ms/step - loss: 0.0158 - acc: 0.9949 - val_loss: 1.9300 - val_acc: 0.7608\n",
      "Epoch 25/25\n",
      "8000/8000 [==============================] - 1676s 209ms/step - loss: 0.0156 - acc: 0.9950 - val_loss: 1.9979 - val_acc: 0.7578\n"
     ]
    },
    {
     "data": {
      "text/plain": [
       "<tensorflow.python.keras.callbacks.History at 0x22b60da2f60>"
      ]
     },
     "execution_count": 27,
     "metadata": {},
     "output_type": "execute_result"
    }
   ],
   "source": [
    "# Part - 2 Fitting the CNN to images\n",
    "# code picked from keras documentation\n",
    "from tensorflow.keras.preprocessing.image import ImageDataGenerator ##imported class which will allow us using image augmentation\n",
    "\n",
    "train_datagen = ImageDataGenerator(\n",
    "        rescale=1./255,\n",
    "        shear_range=0.2,\n",
    "        zoom_range=0.2,\n",
    "        horizontal_flip=True)\n",
    "\n",
    "test_datagen = ImageDataGenerator(rescale=1./255)\n",
    "\n",
    "training_set = train_datagen.flow_from_directory(\n",
    "        '..\\\\MISSION Machine Learning Datasets\\\\dataset\\\\training_set',\n",
    "        target_size=(64, 64),\n",
    "        batch_size=32,\n",
    "        class_mode='binary')\n",
    "\n",
    "test_set = test_datagen.flow_from_directory(\n",
    "                                            '..\\\\MISSION Machine Learning Datasets\\\\dataset\\\\test_set',\n",
    "                                            target_size=(64, 64),\n",
    "                                            batch_size=32,\n",
    "                                            class_mode='binary')\n",
    " \n",
    "classifier.fit_generator(\n",
    "        training_set,\n",
    "        steps_per_epoch=8000,\n",
    "        epochs=25,\n",
    "        validation_data=test_set,\n",
    "        validation_steps=2000)"
   ]
  },
  {
   "cell_type": "code",
   "execution_count": null,
   "metadata": {},
   "outputs": [],
   "source": [
    " "
   ]
  }
 ],
 "metadata": {
  "kernelspec": {
   "display_name": "Python 3",
   "language": "python",
   "name": "python3"
  },
  "language_info": {
   "codemirror_mode": {
    "name": "ipython",
    "version": 3
   },
   "file_extension": ".py",
   "mimetype": "text/x-python",
   "name": "python",
   "nbconvert_exporter": "python",
   "pygments_lexer": "ipython3",
   "version": "3.7.4"
  }
 },
 "nbformat": 4,
 "nbformat_minor": 2
}
